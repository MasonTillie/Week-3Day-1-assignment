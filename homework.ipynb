{
 "cells": [
  {
   "cell_type": "code",
   "execution_count": 9,
   "metadata": {},
   "outputs": [
    {
     "name": "stdout",
     "output_type": "stream",
     "text": [
      "Abraham Lincoln\n",
      "\n",
      "Andrew P Garfield\n",
      "\n",
      "Connor Milliken\n",
      "\n",
      "Jordan Alexander Williams\n",
      "\n",
      "None\n",
      "None\n"
     ]
    }
   ],
   "source": [
    "import re\n",
    "with open ('regex_test.txt') as f:\n",
    "    data = f.readlines()\n",
    "\n",
    "\n",
    "pattern_name = re.compile(r'([A-Z][a-zA-Z]+).+([A-Z][a-z]+$)')\n",
    "for name in data:\n",
    "    match = pattern_name.search(name)\n",
    "    if match:\n",
    "        print(match.string)\n",
    "    else:\n",
    "        print('None')\n"
   ]
  }
 ],
 "metadata": {
  "kernelspec": {
   "display_name": "Python 3.10.6 64-bit",
   "language": "python",
   "name": "python3"
  },
  "language_info": {
   "codemirror_mode": {
    "name": "ipython",
    "version": 3
   },
   "file_extension": ".py",
   "mimetype": "text/x-python",
   "name": "python",
   "nbconvert_exporter": "python",
   "pygments_lexer": "ipython3",
   "version": "3.10.6"
  },
  "orig_nbformat": 4,
  "vscode": {
   "interpreter": {
    "hash": "b74a687c0cfa2191036c89d06dbe6383b3e45e5cf2ea8f7d59abc5394ae49f24"
   }
  }
 },
 "nbformat": 4,
 "nbformat_minor": 2
}
